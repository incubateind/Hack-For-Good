{
  "nbformat": 4,
  "nbformat_minor": 0,
  "metadata": {
    "colab": {
      "name": "Covid19_GeoMap_Fake_News.ipynb",
      "provenance": [],
      "collapsed_sections": []
    },
    "kernelspec": {
      "name": "python3",
      "display_name": "Python 3"
    }
  },
  "cells": [
    {
      "cell_type": "code",
      "metadata": {
        "id": "KMS_hlrvDd8c",
        "colab_type": "code",
        "colab": {}
      },
      "source": [
        "#!pip install geopandas\n",
        "import pandas as pd\n",
        "import seaborn as sns\n",
        "import matplotlib.pyplot as plt\n",
        "import requests\n",
        "from bs4 import BeautifulSoup\n",
        "import geopandas as gpd\n",
        "import tensorflow as tf\n",
        "import os\n",
        "import re\n",
        "import numpy as np\n",
        "from string import punctuation\n",
        "from zipfile import ZipFile\n",
        "from sklearn.model_selection import train_test_split\n",
        "import tensorflow as tf\n",
        "from tensorflow.keras.preprocessing.text import Tokenizer\n",
        "from tensorflow.keras.preprocessing.sequence import pad_sequences\n",
        "from tensorflow.keras.models import Sequential\n",
        "from tensorflow.keras.layers import Dense, Dropout, Embedding, GRU, LSTM, RNN, SpatialDropout1D"
      ],
      "execution_count": 0,
      "outputs": []
    },
    {
      "cell_type": "code",
      "metadata": {
        "id": "9crYlBcqK2k_",
        "colab_type": "code",
        "colab": {
          "base_uri": "https://localhost:8080/",
          "height": 204
        },
        "outputId": "382a8e3a-917a-443b-ca34-731702d48bf4"
      },
      "source": [
        "url = 'https://www.mohfw.gov.in/'\n",
        "web_content = requests.get(url).content\n",
        "soup = BeautifulSoup(web_content, \"html.parser\")\n",
        "extract_contents = lambda row: [x.text.replace('\\n', '') for x in row]\n",
        "stats = [] \n",
        "all_rows = soup.find_all('tr')\n",
        "for row in all_rows:\n",
        "    stat = extract_contents(row.find_all('td')) \n",
        "    if len(stat) == 5:\n",
        "        stats.append(stat)\n",
        "new_cols = [\"Sr.No\", \"States/UT\",\"Confirmed\",\"Recovered\",\"Deceased\"]\n",
        "state_data = pd.DataFrame(data = stats, columns = new_cols)\n",
        "state_data.head()"
      ],
      "execution_count": 6,
      "outputs": [
        {
          "output_type": "execute_result",
          "data": {
            "text/html": [
              "<div>\n",
              "<style scoped>\n",
              "    .dataframe tbody tr th:only-of-type {\n",
              "        vertical-align: middle;\n",
              "    }\n",
              "\n",
              "    .dataframe tbody tr th {\n",
              "        vertical-align: top;\n",
              "    }\n",
              "\n",
              "    .dataframe thead th {\n",
              "        text-align: right;\n",
              "    }\n",
              "</style>\n",
              "<table border=\"1\" class=\"dataframe\">\n",
              "  <thead>\n",
              "    <tr style=\"text-align: right;\">\n",
              "      <th></th>\n",
              "      <th>Sr.No</th>\n",
              "      <th>States/UT</th>\n",
              "      <th>Confirmed</th>\n",
              "      <th>Recovered</th>\n",
              "      <th>Deceased</th>\n",
              "    </tr>\n",
              "  </thead>\n",
              "  <tbody>\n",
              "    <tr>\n",
              "      <th>0</th>\n",
              "      <td>1</td>\n",
              "      <td>Andaman and Nicobar Islands</td>\n",
              "      <td>33</td>\n",
              "      <td>11</td>\n",
              "      <td>0</td>\n",
              "    </tr>\n",
              "    <tr>\n",
              "      <th>1</th>\n",
              "      <td>2</td>\n",
              "      <td>Andhra Pradesh</td>\n",
              "      <td>1259</td>\n",
              "      <td>258</td>\n",
              "      <td>31</td>\n",
              "    </tr>\n",
              "    <tr>\n",
              "      <th>2</th>\n",
              "      <td>3</td>\n",
              "      <td>Arunachal Pradesh</td>\n",
              "      <td>1</td>\n",
              "      <td>1</td>\n",
              "      <td>0</td>\n",
              "    </tr>\n",
              "    <tr>\n",
              "      <th>3</th>\n",
              "      <td>4</td>\n",
              "      <td>Assam</td>\n",
              "      <td>38</td>\n",
              "      <td>27</td>\n",
              "      <td>1</td>\n",
              "    </tr>\n",
              "    <tr>\n",
              "      <th>4</th>\n",
              "      <td>5</td>\n",
              "      <td>Bihar</td>\n",
              "      <td>346</td>\n",
              "      <td>57</td>\n",
              "      <td>2</td>\n",
              "    </tr>\n",
              "  </tbody>\n",
              "</table>\n",
              "</div>"
            ],
            "text/plain": [
              "  Sr.No                    States/UT Confirmed Recovered Deceased\n",
              "0     1  Andaman and Nicobar Islands        33        11        0\n",
              "1     2               Andhra Pradesh      1259       258       31\n",
              "2     3            Arunachal Pradesh         1         1        0\n",
              "3     4                        Assam        38        27        1\n",
              "4     5                        Bihar       346        57        2"
            ]
          },
          "metadata": {
            "tags": []
          },
          "execution_count": 6
        }
      ]
    },
    {
      "cell_type": "code",
      "metadata": {
        "id": "YsPt99STFj4o",
        "colab_type": "code",
        "colab": {}
      },
      "source": [
        "state_data['Confirmed'] = state_data['Confirmed'].map(int)\n",
        "state_data['Recovered'] = state_data['Recovered'].map(int)\n",
        "state_data['Deceased'] = state_data['Deceased'].map(int)"
      ],
      "execution_count": 0,
      "outputs": []
    },
    {
      "cell_type": "code",
      "metadata": {
        "id": "8A68c8twFtD2",
        "colab_type": "code",
        "colab": {
          "base_uri": "https://localhost:8080/",
          "height": 204
        },
        "outputId": "46310fac-0935-44b4-c538-38c40530073b"
      },
      "source": [
        "map_data = gpd.read_file('Indian_States.shp')\n",
        "map_data.rename(columns = {'st_nm':'States/UT'}, inplace = True)\n",
        "map_data.head()"
      ],
      "execution_count": 8,
      "outputs": [
        {
          "output_type": "execute_result",
          "data": {
            "text/html": [
              "<div>\n",
              "<style scoped>\n",
              "    .dataframe tbody tr th:only-of-type {\n",
              "        vertical-align: middle;\n",
              "    }\n",
              "\n",
              "    .dataframe tbody tr th {\n",
              "        vertical-align: top;\n",
              "    }\n",
              "\n",
              "    .dataframe thead th {\n",
              "        text-align: right;\n",
              "    }\n",
              "</style>\n",
              "<table border=\"1\" class=\"dataframe\">\n",
              "  <thead>\n",
              "    <tr style=\"text-align: right;\">\n",
              "      <th></th>\n",
              "      <th>States/UT</th>\n",
              "      <th>geometry</th>\n",
              "    </tr>\n",
              "  </thead>\n",
              "  <tbody>\n",
              "    <tr>\n",
              "      <th>0</th>\n",
              "      <td>Andaman &amp; Nicobar Island</td>\n",
              "      <td>MULTIPOLYGON (((93.71976 7.20707, 93.71909 7.2...</td>\n",
              "    </tr>\n",
              "    <tr>\n",
              "      <th>1</th>\n",
              "      <td>Arunanchal Pradesh</td>\n",
              "      <td>POLYGON ((96.16261 29.38078, 96.16860 29.37432...</td>\n",
              "    </tr>\n",
              "    <tr>\n",
              "      <th>2</th>\n",
              "      <td>Assam</td>\n",
              "      <td>MULTIPOLYGON (((89.74323 26.30362, 89.74290 26...</td>\n",
              "    </tr>\n",
              "    <tr>\n",
              "      <th>3</th>\n",
              "      <td>Bihar</td>\n",
              "      <td>MULTIPOLYGON (((84.50720 24.26323, 84.50355 24...</td>\n",
              "    </tr>\n",
              "    <tr>\n",
              "      <th>4</th>\n",
              "      <td>Chandigarh</td>\n",
              "      <td>POLYGON ((76.84147 30.75996, 76.83599 30.73623...</td>\n",
              "    </tr>\n",
              "  </tbody>\n",
              "</table>\n",
              "</div>"
            ],
            "text/plain": [
              "                  States/UT                                           geometry\n",
              "0  Andaman & Nicobar Island  MULTIPOLYGON (((93.71976 7.20707, 93.71909 7.2...\n",
              "1        Arunanchal Pradesh  POLYGON ((96.16261 29.38078, 96.16860 29.37432...\n",
              "2                     Assam  MULTIPOLYGON (((89.74323 26.30362, 89.74290 26...\n",
              "3                     Bihar  MULTIPOLYGON (((84.50720 24.26323, 84.50355 24...\n",
              "4                Chandigarh  POLYGON ((76.84147 30.75996, 76.83599 30.73623..."
            ]
          },
          "metadata": {
            "tags": []
          },
          "execution_count": 8
        }
      ]
    },
    {
      "cell_type": "code",
      "metadata": {
        "id": "IyxaZTS4F4pn",
        "colab_type": "code",
        "colab": {}
      },
      "source": [
        "map_data['States/UT'] = map_data['States/UT'].str.replace('&','and')\n",
        "map_data['States/UT'].replace('Arunanchal Pradesh',\n",
        "                              'Arunachal Pradesh', inplace = True)\n",
        "map_data['States/UT'].replace('Telangana', \n",
        "                              'Telengana', inplace = True)\n",
        "map_data['States/UT'].replace('NCT of Delhi', \n",
        "                              'Delhi', inplace = True)\n",
        "map_data['States/UT'].replace('Andaman and Nicobar Island', \n",
        "                              'Andaman and Nicobar Islands', \n",
        "                               inplace = True)"
      ],
      "execution_count": 0,
      "outputs": []
    },
    {
      "cell_type": "code",
      "metadata": {
        "id": "xFqbUvIwGAxW",
        "colab_type": "code",
        "colab": {
          "base_uri": "https://localhost:8080/",
          "height": 204
        },
        "outputId": "e742b0f3-aab6-4d5d-8e79-10e91f167f13"
      },
      "source": [
        "merged_data = pd.merge(map_data, state_data, \n",
        "                       how = 'left', on = 'States/UT')\n",
        "merged_data.fillna(0, inplace = True)\n",
        "merged_data.drop('Sr.No', axis = 1, inplace = True)\n",
        "merged_data.head()"
      ],
      "execution_count": 10,
      "outputs": [
        {
          "output_type": "execute_result",
          "data": {
            "text/html": [
              "<div>\n",
              "<style scoped>\n",
              "    .dataframe tbody tr th:only-of-type {\n",
              "        vertical-align: middle;\n",
              "    }\n",
              "\n",
              "    .dataframe tbody tr th {\n",
              "        vertical-align: top;\n",
              "    }\n",
              "\n",
              "    .dataframe thead th {\n",
              "        text-align: right;\n",
              "    }\n",
              "</style>\n",
              "<table border=\"1\" class=\"dataframe\">\n",
              "  <thead>\n",
              "    <tr style=\"text-align: right;\">\n",
              "      <th></th>\n",
              "      <th>States/UT</th>\n",
              "      <th>geometry</th>\n",
              "      <th>Confirmed</th>\n",
              "      <th>Recovered</th>\n",
              "      <th>Deceased</th>\n",
              "    </tr>\n",
              "  </thead>\n",
              "  <tbody>\n",
              "    <tr>\n",
              "      <th>0</th>\n",
              "      <td>Andaman and Nicobar Islands</td>\n",
              "      <td>MULTIPOLYGON (((93.71976 7.20707, 93.71909 7.2...</td>\n",
              "      <td>33.0</td>\n",
              "      <td>11.0</td>\n",
              "      <td>0.0</td>\n",
              "    </tr>\n",
              "    <tr>\n",
              "      <th>1</th>\n",
              "      <td>Arunachal Pradesh</td>\n",
              "      <td>POLYGON ((96.16261 29.38078, 96.16860 29.37432...</td>\n",
              "      <td>1.0</td>\n",
              "      <td>1.0</td>\n",
              "      <td>0.0</td>\n",
              "    </tr>\n",
              "    <tr>\n",
              "      <th>2</th>\n",
              "      <td>Assam</td>\n",
              "      <td>MULTIPOLYGON (((89.74323 26.30362, 89.74290 26...</td>\n",
              "      <td>38.0</td>\n",
              "      <td>27.0</td>\n",
              "      <td>1.0</td>\n",
              "    </tr>\n",
              "    <tr>\n",
              "      <th>3</th>\n",
              "      <td>Bihar</td>\n",
              "      <td>MULTIPOLYGON (((84.50720 24.26323, 84.50355 24...</td>\n",
              "      <td>346.0</td>\n",
              "      <td>57.0</td>\n",
              "      <td>2.0</td>\n",
              "    </tr>\n",
              "    <tr>\n",
              "      <th>4</th>\n",
              "      <td>Chandigarh</td>\n",
              "      <td>POLYGON ((76.84147 30.75996, 76.83599 30.73623...</td>\n",
              "      <td>40.0</td>\n",
              "      <td>17.0</td>\n",
              "      <td>0.0</td>\n",
              "    </tr>\n",
              "  </tbody>\n",
              "</table>\n",
              "</div>"
            ],
            "text/plain": [
              "                     States/UT  ... Deceased\n",
              "0  Andaman and Nicobar Islands  ...      0.0\n",
              "1            Arunachal Pradesh  ...      0.0\n",
              "2                        Assam  ...      1.0\n",
              "3                        Bihar  ...      2.0\n",
              "4                   Chandigarh  ...      0.0\n",
              "\n",
              "[5 rows x 5 columns]"
            ]
          },
          "metadata": {
            "tags": []
          },
          "execution_count": 10
        }
      ]
    },
    {
      "cell_type": "code",
      "metadata": {
        "id": "vuJlOofoIG9w",
        "colab_type": "code",
        "colab": {
          "base_uri": "https://localhost:8080/",
          "height": 714
        },
        "outputId": "a01a5264-45e3-4bd4-d2f9-e27faef7616b"
      },
      "source": [
        "fig, ax = plt.subplots(1, figsize=(20, 12))\n",
        "ax.axis('off')\n",
        "ax.set_title('Covid-19 Statewise Statistics of Confirmed Cases', \n",
        "             fontdict =  {'fontsize': '25', 'fontweight' : '3'})\n",
        "merged_data.plot(column = 'Confirmed', cmap='Reds', \n",
        "                 linewidth=0.8, ax=ax, edgecolor='0.8', \n",
        "                 legend = True)\n",
        "plt.show()"
      ],
      "execution_count": 11,
      "outputs": [
        {
          "output_type": "display_data",
          "data": {
            "image/png": "[encoded data removed]",
            "text/plain": [
              "<Figure size 1440x864 with 2 Axes>"
            ]
          },
          "metadata": {
            "tags": [],
            "needs_background": "light"
          }
        }
      ]
    },
    {
      "cell_type": "code",
      "metadata": {
        "id": "KA-8vhLMIfzF",
        "colab_type": "code",
        "colab": {}
      },
      "source": [
        "train = pd.read_csv('Covid_Train.csv')\n",
        "test = pd.read_csv('Covid_Test.csv')\n",
        "train_data = train.copy()\n",
        "test_data = test.copy()"
      ],
      "execution_count": 0,
      "outputs": []
    },
    {
      "cell_type": "code",
      "metadata": {
        "id": "zssB-1XX-oew",
        "colab_type": "code",
        "colab": {}
      },
      "source": [
        "train_data = train_data.set_index('id', drop = True)"
      ],
      "execution_count": 0,
      "outputs": []
    },
    {
      "cell_type": "code",
      "metadata": {
        "id": "KnGNM2qJ-rYA",
        "colab_type": "code",
        "colab": {
          "base_uri": "https://localhost:8080/",
          "height": 561
        },
        "outputId": "2875fd6c-5198-4d81-d5ce-12900628d8e3"
      },
      "source": [
        "print(train_data.shape)\n",
        "train_data.head()"
      ],
      "execution_count": 15,
      "outputs": [
        {
          "output_type": "stream",
          "text": [
            "(699, 9)\n"
          ],
          "name": "stdout"
        },
        {
          "output_type": "execute_result",
          "data": {
            "text/html": [
              "<div>\n",
              "<style scoped>\n",
              "    .dataframe tbody tr th:only-of-type {\n",
              "        vertical-align: middle;\n",
              "    }\n",
              "\n",
              "    .dataframe tbody tr th {\n",
              "        vertical-align: top;\n",
              "    }\n",
              "\n",
              "    .dataframe thead th {\n",
              "        text-align: right;\n",
              "    }\n",
              "</style>\n",
              "<table border=\"1\" class=\"dataframe\">\n",
              "  <thead>\n",
              "    <tr style=\"text-align: right;\">\n",
              "      <th></th>\n",
              "      <th>created_at</th>\n",
              "      <th>text</th>\n",
              "      <th>user/id</th>\n",
              "      <th>user/name</th>\n",
              "      <th>user/location</th>\n",
              "      <th>user/url</th>\n",
              "      <th>lang</th>\n",
              "      <th>timestamp_ms</th>\n",
              "      <th>TARGET</th>\n",
              "    </tr>\n",
              "    <tr>\n",
              "      <th>id</th>\n",
              "      <th></th>\n",
              "      <th></th>\n",
              "      <th></th>\n",
              "      <th></th>\n",
              "      <th></th>\n",
              "      <th></th>\n",
              "      <th></th>\n",
              "      <th></th>\n",
              "      <th></th>\n",
              "    </tr>\n",
              "  </thead>\n",
              "  <tbody>\n",
              "    <tr>\n",
              "      <th>1.260000e+18</th>\n",
              "      <td>Tue Apr 28 12:14:59 +0000 2020</td>\n",
              "      <td>PAYPAL BS 166000x$ OPERACIONES HACIA VENEZUELA...</td>\n",
              "      <td>9.320000e+17</td>\n",
              "      <td>FamiEnvios</td>\n",
              "      <td>LatinoAmerica</td>\n",
              "      <td>http://www.famienvios.com</td>\n",
              "      <td>es</td>\n",
              "      <td>1.590000e+12</td>\n",
              "      <td>1.0</td>\n",
              "    </tr>\n",
              "    <tr>\n",
              "      <th>1.260000e+18</th>\n",
              "      <td>Tue Apr 28 12:15:00 +0000 2020</td>\n",
              "      <td>🇭🇷 Croatia has confirmed 8 new coronavirus cas...</td>\n",
              "      <td>1.250000e+18</td>\n",
              "      <td>Data Trackers</td>\n",
              "      <td>NaN</td>\n",
              "      <td>NaN</td>\n",
              "      <td>en</td>\n",
              "      <td>1.590000e+12</td>\n",
              "      <td>1.0</td>\n",
              "    </tr>\n",
              "    <tr>\n",
              "      <th>1.260000e+18</th>\n",
              "      <td>Tue Apr 28 12:15:00 +0000 2020</td>\n",
              "      <td>RT @AriMulano_: Due To #COVID19 I’ll Be Sendin...</td>\n",
              "      <td>8.780000e+17</td>\n",
              "      <td>Kane Settles</td>\n",
              "      <td>NaN</td>\n",
              "      <td>NaN</td>\n",
              "      <td>en</td>\n",
              "      <td>1.590000e+12</td>\n",
              "      <td>0.0</td>\n",
              "    </tr>\n",
              "    <tr>\n",
              "      <th>1.260000e+18</th>\n",
              "      <td>Tue Apr 28 12:15:00 +0000 2020</td>\n",
              "      <td>🍊La formación naranja hace propuestas construc...</td>\n",
              "      <td>2.369476e+09</td>\n",
              "      <td>Libre Diario Digital #QuedateEnCasa</td>\n",
              "      <td>Tenerife, I.Canarias, España</td>\n",
              "      <td>http://www.librediariodigital.net/</td>\n",
              "      <td>es</td>\n",
              "      <td>1.590000e+12</td>\n",
              "      <td>0.0</td>\n",
              "    </tr>\n",
              "    <tr>\n",
              "      <th>1.260000e+18</th>\n",
              "      <td>Tue Apr 28 12:15:00 +0000 2020</td>\n",
              "      <td>Tut mir nur der Rücken weh oder sind das schon...</td>\n",
              "      <td>5.433539e+08</td>\n",
              "      <td>Helen Dalibor</td>\n",
              "      <td>Deutschland</td>\n",
              "      <td>http://helendalibor.wordpress.com</td>\n",
              "      <td>de</td>\n",
              "      <td>1.590000e+12</td>\n",
              "      <td>1.0</td>\n",
              "    </tr>\n",
              "  </tbody>\n",
              "</table>\n",
              "</div>"
            ],
            "text/plain": [
              "                                  created_at  ... TARGET\n",
              "id                                            ...       \n",
              "1.260000e+18  Tue Apr 28 12:14:59 +0000 2020  ...    1.0\n",
              "1.260000e+18  Tue Apr 28 12:15:00 +0000 2020  ...    1.0\n",
              "1.260000e+18  Tue Apr 28 12:15:00 +0000 2020  ...    0.0\n",
              "1.260000e+18  Tue Apr 28 12:15:00 +0000 2020  ...    0.0\n",
              "1.260000e+18  Tue Apr 28 12:15:00 +0000 2020  ...    1.0\n",
              "\n",
              "[5 rows x 9 columns]"
            ]
          },
          "metadata": {
            "tags": []
          },
          "execution_count": 15
        }
      ]
    },
    {
      "cell_type": "code",
      "metadata": {
        "id": "H_jinz4J-tD8",
        "colab_type": "code",
        "colab": {
          "base_uri": "https://localhost:8080/",
          "height": 462
        },
        "outputId": "257a1b88-189b-4fb0-a609-3c86fa670ea4"
      },
      "source": [
        "print(test_data.shape)\n",
        "test_data.head()"
      ],
      "execution_count": 16,
      "outputs": [
        {
          "output_type": "stream",
          "text": [
            "(301, 9)\n"
          ],
          "name": "stdout"
        },
        {
          "output_type": "execute_result",
          "data": {
            "text/html": [
              "<div>\n",
              "<style scoped>\n",
              "    .dataframe tbody tr th:only-of-type {\n",
              "        vertical-align: middle;\n",
              "    }\n",
              "\n",
              "    .dataframe tbody tr th {\n",
              "        vertical-align: top;\n",
              "    }\n",
              "\n",
              "    .dataframe thead th {\n",
              "        text-align: right;\n",
              "    }\n",
              "</style>\n",
              "<table border=\"1\" class=\"dataframe\">\n",
              "  <thead>\n",
              "    <tr style=\"text-align: right;\">\n",
              "      <th></th>\n",
              "      <th>created_at</th>\n",
              "      <th>id</th>\n",
              "      <th>text</th>\n",
              "      <th>user/id</th>\n",
              "      <th>user/name</th>\n",
              "      <th>user/location</th>\n",
              "      <th>user/url</th>\n",
              "      <th>lang</th>\n",
              "      <th>timestamp_ms</th>\n",
              "    </tr>\n",
              "  </thead>\n",
              "  <tbody>\n",
              "    <tr>\n",
              "      <th>0</th>\n",
              "      <td>Tue Apr 28 12:15:15 +0000 2020</td>\n",
              "      <td>1.260000e+18</td>\n",
              "      <td>RT @C4Ciaran: It is now the case that more det...</td>\n",
              "      <td>1.190000e+18</td>\n",
              "      <td>Sarah Dee</td>\n",
              "      <td>U.K.</td>\n",
              "      <td>NaN</td>\n",
              "      <td>en</td>\n",
              "      <td>1.590000e+12</td>\n",
              "    </tr>\n",
              "    <tr>\n",
              "      <th>1</th>\n",
              "      <td>Tue Apr 28 12:15:15 +0000 2020</td>\n",
              "      <td>1.260000e+18</td>\n",
              "      <td>RT @TomFitton: Mayo Clinic to furlough or redu...</td>\n",
              "      <td>1.140000e+18</td>\n",
              "      <td>@roomato</td>\n",
              "      <td>Maryland hostage</td>\n",
              "      <td>NaN</td>\n",
              "      <td>en</td>\n",
              "      <td>1.590000e+12</td>\n",
              "    </tr>\n",
              "    <tr>\n",
              "      <th>2</th>\n",
              "      <td>Tue Apr 28 12:15:15 +0000 2020</td>\n",
              "      <td>1.260000e+18</td>\n",
              "      <td>@outertemple and my friends @CliffordLaw are p...</td>\n",
              "      <td>3.888329e+08</td>\n",
              "      <td>Gerard McDermott</td>\n",
              "      <td>NaN</td>\n",
              "      <td>http://www.mcdermottqc.com</td>\n",
              "      <td>en</td>\n",
              "      <td>1.590000e+12</td>\n",
              "    </tr>\n",
              "    <tr>\n",
              "      <th>3</th>\n",
              "      <td>Tue Apr 28 12:15:15 +0000 2020</td>\n",
              "      <td>1.260000e+18</td>\n",
              "      <td>Franges .@emergenciescat per sortir: 6 a 8h es...</td>\n",
              "      <td>1.415407e+08</td>\n",
              "      <td>Elena Garcia</td>\n",
              "      <td>NaN</td>\n",
              "      <td>NaN</td>\n",
              "      <td>ca</td>\n",
              "      <td>1.590000e+12</td>\n",
              "    </tr>\n",
              "    <tr>\n",
              "      <th>4</th>\n",
              "      <td>Tue Apr 28 12:15:15 +0000 2020</td>\n",
              "      <td>1.260000e+18</td>\n",
              "      <td>RT @OurCompass: Many scientists believe #COVID...</td>\n",
              "      <td>2.758327e+09</td>\n",
              "      <td>lipstick</td>\n",
              "      <td>England, United Kingdom</td>\n",
              "      <td>NaN</td>\n",
              "      <td>en</td>\n",
              "      <td>1.590000e+12</td>\n",
              "    </tr>\n",
              "  </tbody>\n",
              "</table>\n",
              "</div>"
            ],
            "text/plain": [
              "                       created_at            id  ... lang  timestamp_ms\n",
              "0  Tue Apr 28 12:15:15 +0000 2020  1.260000e+18  ...   en  1.590000e+12\n",
              "1  Tue Apr 28 12:15:15 +0000 2020  1.260000e+18  ...   en  1.590000e+12\n",
              "2  Tue Apr 28 12:15:15 +0000 2020  1.260000e+18  ...   en  1.590000e+12\n",
              "3  Tue Apr 28 12:15:15 +0000 2020  1.260000e+18  ...   ca  1.590000e+12\n",
              "4  Tue Apr 28 12:15:15 +0000 2020  1.260000e+18  ...   en  1.590000e+12\n",
              "\n",
              "[5 rows x 9 columns]"
            ]
          },
          "metadata": {
            "tags": []
          },
          "execution_count": 16
        }
      ]
    },
    {
      "cell_type": "code",
      "metadata": {
        "id": "j1MG1iY--wvq",
        "colab_type": "code",
        "colab": {
          "base_uri": "https://localhost:8080/",
          "height": 187
        },
        "outputId": "d99c18b9-fc19-4272-cab1-97dc7ac6623f"
      },
      "source": [
        "train_data.isnull().sum()"
      ],
      "execution_count": 17,
      "outputs": [
        {
          "output_type": "execute_result",
          "data": {
            "text/plain": [
              "created_at         4\n",
              "text               4\n",
              "user/id            4\n",
              "user/name          4\n",
              "user/location    212\n",
              "user/url         423\n",
              "lang               4\n",
              "timestamp_ms       4\n",
              "TARGET             4\n",
              "dtype: int64"
            ]
          },
          "metadata": {
            "tags": []
          },
          "execution_count": 17
        }
      ]
    },
    {
      "cell_type": "code",
      "metadata": {
        "id": "86Z2shEi-zux",
        "colab_type": "code",
        "colab": {
          "base_uri": "https://localhost:8080/",
          "height": 187
        },
        "outputId": "345e4724-1ddb-43ef-e4cf-b214fcb17423"
      },
      "source": [
        "train_data[['text', 'user/id']] = train_data[['text', 'user/id']].fillna(value = 'Missing')\n",
        "train_data = train_data.dropna()\n",
        "train_data.isnull().sum()"
      ],
      "execution_count": 18,
      "outputs": [
        {
          "output_type": "execute_result",
          "data": {
            "text/plain": [
              "created_at       0\n",
              "text             0\n",
              "user/id          0\n",
              "user/name        0\n",
              "user/location    0\n",
              "user/url         0\n",
              "lang             0\n",
              "timestamp_ms     0\n",
              "TARGET           0\n",
              "dtype: int64"
            ]
          },
          "metadata": {
            "tags": []
          },
          "execution_count": 18
        }
      ]
    },
    {
      "cell_type": "code",
      "metadata": {
        "id": "37pAwK3M-1mi",
        "colab_type": "code",
        "colab": {
          "base_uri": "https://localhost:8080/",
          "height": 442
        },
        "outputId": "c7d347db-fbab-436a-a566-458cf83af40e"
      },
      "source": [
        "length = []\n",
        "[length.append(len(str(text))) for text in train_data['text']]\n",
        "train_data['length'] = length\n",
        "train_data.head()"
      ],
      "execution_count": 19,
      "outputs": [
        {
          "output_type": "execute_result",
          "data": {
            "text/html": [
              "<div>\n",
              "<style scoped>\n",
              "    .dataframe tbody tr th:only-of-type {\n",
              "        vertical-align: middle;\n",
              "    }\n",
              "\n",
              "    .dataframe tbody tr th {\n",
              "        vertical-align: top;\n",
              "    }\n",
              "\n",
              "    .dataframe thead th {\n",
              "        text-align: right;\n",
              "    }\n",
              "</style>\n",
              "<table border=\"1\" class=\"dataframe\">\n",
              "  <thead>\n",
              "    <tr style=\"text-align: right;\">\n",
              "      <th></th>\n",
              "      <th>created_at</th>\n",
              "      <th>text</th>\n",
              "      <th>user/id</th>\n",
              "      <th>user/name</th>\n",
              "      <th>user/location</th>\n",
              "      <th>user/url</th>\n",
              "      <th>lang</th>\n",
              "      <th>timestamp_ms</th>\n",
              "      <th>TARGET</th>\n",
              "      <th>length</th>\n",
              "    </tr>\n",
              "    <tr>\n",
              "      <th>id</th>\n",
              "      <th></th>\n",
              "      <th></th>\n",
              "      <th></th>\n",
              "      <th></th>\n",
              "      <th></th>\n",
              "      <th></th>\n",
              "      <th></th>\n",
              "      <th></th>\n",
              "      <th></th>\n",
              "      <th></th>\n",
              "    </tr>\n",
              "  </thead>\n",
              "  <tbody>\n",
              "    <tr>\n",
              "      <th>1.260000e+18</th>\n",
              "      <td>Tue Apr 28 12:14:59 +0000 2020</td>\n",
              "      <td>PAYPAL BS 166000x$ OPERACIONES HACIA VENEZUELA...</td>\n",
              "      <td>9.32e+17</td>\n",
              "      <td>FamiEnvios</td>\n",
              "      <td>LatinoAmerica</td>\n",
              "      <td>http://www.famienvios.com</td>\n",
              "      <td>es</td>\n",
              "      <td>1.590000e+12</td>\n",
              "      <td>1.0</td>\n",
              "      <td>140</td>\n",
              "    </tr>\n",
              "    <tr>\n",
              "      <th>1.260000e+18</th>\n",
              "      <td>Tue Apr 28 12:15:00 +0000 2020</td>\n",
              "      <td>🍊La formación naranja hace propuestas construc...</td>\n",
              "      <td>2.36948e+09</td>\n",
              "      <td>Libre Diario Digital #QuedateEnCasa</td>\n",
              "      <td>Tenerife, I.Canarias, España</td>\n",
              "      <td>http://www.librediariodigital.net/</td>\n",
              "      <td>es</td>\n",
              "      <td>1.590000e+12</td>\n",
              "      <td>0.0</td>\n",
              "      <td>115</td>\n",
              "    </tr>\n",
              "    <tr>\n",
              "      <th>1.260000e+18</th>\n",
              "      <td>Tue Apr 28 12:15:00 +0000 2020</td>\n",
              "      <td>Tut mir nur der Rücken weh oder sind das schon...</td>\n",
              "      <td>5.43354e+08</td>\n",
              "      <td>Helen Dalibor</td>\n",
              "      <td>Deutschland</td>\n",
              "      <td>http://helendalibor.wordpress.com</td>\n",
              "      <td>de</td>\n",
              "      <td>1.590000e+12</td>\n",
              "      <td>1.0</td>\n",
              "      <td>140</td>\n",
              "    </tr>\n",
              "    <tr>\n",
              "      <th>1.260000e+18</th>\n",
              "      <td>Tue Apr 28 12:15:00 +0000 2020</td>\n",
              "      <td>On #WorkersMemorialDay, the Labor Movement rem...</td>\n",
              "      <td>4.30834e+08</td>\n",
              "      <td>New York City Central Labor Council, AFL-CIO</td>\n",
              "      <td>NYC</td>\n",
              "      <td>http://www.nycclc.org</td>\n",
              "      <td>en</td>\n",
              "      <td>1.590000e+12</td>\n",
              "      <td>1.0</td>\n",
              "      <td>140</td>\n",
              "    </tr>\n",
              "    <tr>\n",
              "      <th>1.260000e+18</th>\n",
              "      <td>Tue Apr 28 12:15:00 +0000 2020</td>\n",
              "      <td>#Coronavirus: Festivalul Internaţional de Film...</td>\n",
              "      <td>1.19309e+08</td>\n",
              "      <td>AGERPRES</td>\n",
              "      <td>Bucharest, Romania</td>\n",
              "      <td>http://www.agerpres.ro</td>\n",
              "      <td>ro</td>\n",
              "      <td>1.590000e+12</td>\n",
              "      <td>1.0</td>\n",
              "      <td>133</td>\n",
              "    </tr>\n",
              "  </tbody>\n",
              "</table>\n",
              "</div>"
            ],
            "text/plain": [
              "                                  created_at  ... length\n",
              "id                                            ...       \n",
              "1.260000e+18  Tue Apr 28 12:14:59 +0000 2020  ...    140\n",
              "1.260000e+18  Tue Apr 28 12:15:00 +0000 2020  ...    115\n",
              "1.260000e+18  Tue Apr 28 12:15:00 +0000 2020  ...    140\n",
              "1.260000e+18  Tue Apr 28 12:15:00 +0000 2020  ...    140\n",
              "1.260000e+18  Tue Apr 28 12:15:00 +0000 2020  ...    133\n",
              "\n",
              "[5 rows x 10 columns]"
            ]
          },
          "metadata": {
            "tags": []
          },
          "execution_count": 19
        }
      ]
    },
    {
      "cell_type": "code",
      "metadata": {
        "id": "LGPLuuDK-4VK",
        "colab_type": "code",
        "colab": {
          "base_uri": "https://localhost:8080/",
          "height": 34
        },
        "outputId": "49aa83e9-d7bb-4a83-fd8b-46fdb47ba48a"
      },
      "source": [
        "min(train_data['length']), max(train_data['length']), round(sum(train_data['length'])/len(train_data['length']))"
      ],
      "execution_count": 20,
      "outputs": [
        {
          "output_type": "execute_result",
          "data": {
            "text/plain": [
              "(14, 144, 130)"
            ]
          },
          "metadata": {
            "tags": []
          },
          "execution_count": 20
        }
      ]
    },
    {
      "cell_type": "code",
      "metadata": {
        "id": "3P8E7uLG-7C3",
        "colab_type": "code",
        "colab": {}
      },
      "source": [
        "max_features = 200\n",
        "\n",
        "tokenizer = Tokenizer(num_words = max_features, filters='!\"#$%&()*+,-./:;<=>?@[\\\\]^_`{|}~\\t\\n', lower = True, split = ' ')\n",
        "tokenizer.fit_on_texts(texts = train_data['text'])\n",
        "X = tokenizer.texts_to_sequences(texts = train_data['text'])"
      ],
      "execution_count": 0,
      "outputs": []
    },
    {
      "cell_type": "code",
      "metadata": {
        "id": "QJZ61YfK-9LI",
        "colab_type": "code",
        "colab": {}
      },
      "source": [
        "X = pad_sequences(sequences = X, maxlen = max_features, padding = 'pre')"
      ],
      "execution_count": 0,
      "outputs": []
    },
    {
      "cell_type": "code",
      "metadata": {
        "id": "7wURt9kv-_ip",
        "colab_type": "code",
        "colab": {
          "base_uri": "https://localhost:8080/",
          "height": 51
        },
        "outputId": "92823eae-ace0-4bff-d303-1c2c3877efd1"
      },
      "source": [
        "print(X.shape)\n",
        "y = train_data['TARGET'].values\n",
        "print(y.shape)"
      ],
      "execution_count": 23,
      "outputs": [
        {
          "output_type": "stream",
          "text": [
            "(245, 200)\n",
            "(245,)\n"
          ],
          "name": "stdout"
        }
      ]
    },
    {
      "cell_type": "code",
      "metadata": {
        "id": "ALkSuMcc_BOk",
        "colab_type": "code",
        "colab": {}
      },
      "source": [
        "gru_model = Sequential(name = 'gru_nn_model')\n",
        "gru_model.add(layer = Embedding(input_dim = max_features, output_dim = 120, name = '1st_layer'))\n",
        "gru_model.add(layer = GRU(units = 120, dropout = 0.2, \n",
        "                          recurrent_dropout = 0.2, recurrent_activation = 'relu', \n",
        "                          activation = 'relu', name = '2nd_layer'))\n",
        "gru_model.add(layer = Dropout(rate = 0.4, name = '3rd_layer'))\n",
        "gru_model.add(layer = Dense(units = 120, activation = 'relu', name = '4th_layer'))\n",
        "gru_model.add(layer = Dropout(rate = 0.2, name = '5th_layer'))\n",
        "gru_model.add(layer = Dense(units = len(set(y)), activation = 'softmax', name = 'output_layer'))\n",
        "gru_model.compile(optimizer = 'adam', loss = 'sparse_categorical_crossentropy', metrics = ['accuracy'])"
      ],
      "execution_count": 0,
      "outputs": []
    },
    {
      "cell_type": "code",
      "metadata": {
        "id": "41cnEVQG_DsF",
        "colab_type": "code",
        "colab": {
          "base_uri": "https://localhost:8080/",
          "height": 357
        },
        "outputId": "b66509a9-9402-4e79-8696-052d305ea72f"
      },
      "source": [
        "gru_model.summary()"
      ],
      "execution_count": 25,
      "outputs": [
        {
          "output_type": "stream",
          "text": [
            "Model: \"gru_nn_model\"\n",
            "_________________________________________________________________\n",
            "Layer (type)                 Output Shape              Param #   \n",
            "=================================================================\n",
            "1st_layer (Embedding)        (None, None, 120)         24000     \n",
            "_________________________________________________________________\n",
            "2nd_layer (GRU)              (None, 120)               87120     \n",
            "_________________________________________________________________\n",
            "3rd_layer (Dropout)          (None, 120)               0         \n",
            "_________________________________________________________________\n",
            "4th_layer (Dense)            (None, 120)               14520     \n",
            "_________________________________________________________________\n",
            "5th_layer (Dropout)          (None, 120)               0         \n",
            "_________________________________________________________________\n",
            "output_layer (Dense)         (None, 2)                 242       \n",
            "=================================================================\n",
            "Total params: 125,882\n",
            "Trainable params: 125,882\n",
            "Non-trainable params: 0\n",
            "_________________________________________________________________\n"
          ],
          "name": "stdout"
        }
      ]
    },
    {
      "cell_type": "code",
      "metadata": {
        "id": "L8tRLAcD_KMC",
        "colab_type": "code",
        "colab": {
          "base_uri": "https://localhost:8080/",
          "height": 34
        },
        "outputId": "311678cb-a5bf-41a8-c793-e92a2a42b569"
      },
      "source": [
        "gru_model_fit = gru_model.fit(X, y, epochs = 1)"
      ],
      "execution_count": 26,
      "outputs": [
        {
          "output_type": "stream",
          "text": [
            "8/8 [==============================] - 3s 431ms/step - loss: 0.6770 - accuracy: 0.7551\n"
          ],
          "name": "stdout"
        }
      ]
    },
    {
      "cell_type": "code",
      "metadata": {
        "id": "TKP4HWqb_NGf",
        "colab_type": "code",
        "colab": {
          "base_uri": "https://localhost:8080/",
          "height": 51
        },
        "outputId": "66ddce9d-c071-41ba-8787-cd49ed039d74"
      },
      "source": [
        "print(test.shape)\n",
        "test_data = test.copy()\n",
        "print(test_data.shape)"
      ],
      "execution_count": 27,
      "outputs": [
        {
          "output_type": "stream",
          "text": [
            "(301, 9)\n",
            "(301, 9)\n"
          ],
          "name": "stdout"
        }
      ]
    },
    {
      "cell_type": "code",
      "metadata": {
        "id": "0ocTb57z_PE_",
        "colab_type": "code",
        "colab": {
          "base_uri": "https://localhost:8080/",
          "height": 34
        },
        "outputId": "8190f954-f20c-4677-8cdc-90cdb83728b5"
      },
      "source": [
        "test_data = test_data.set_index('id', drop = True)\n",
        "test_data.shape"
      ],
      "execution_count": 28,
      "outputs": [
        {
          "output_type": "execute_result",
          "data": {
            "text/plain": [
              "(301, 8)"
            ]
          },
          "metadata": {
            "tags": []
          },
          "execution_count": 28
        }
      ]
    },
    {
      "cell_type": "code",
      "metadata": {
        "id": "RxO0P5sD_RzL",
        "colab_type": "code",
        "colab": {
          "base_uri": "https://localhost:8080/",
          "height": 187
        },
        "outputId": "22422ca5-8b44-40c4-eb30-8dcb6523c89d"
      },
      "source": [
        "test_data = test_data.fillna(' ')\n",
        "print(test_data.shape)\n",
        "test_data.isnull().sum()"
      ],
      "execution_count": 29,
      "outputs": [
        {
          "output_type": "stream",
          "text": [
            "(301, 8)\n"
          ],
          "name": "stdout"
        },
        {
          "output_type": "execute_result",
          "data": {
            "text/plain": [
              "created_at       0\n",
              "text             0\n",
              "user/id          0\n",
              "user/name        0\n",
              "user/location    0\n",
              "user/url         0\n",
              "lang             0\n",
              "timestamp_ms     0\n",
              "dtype: int64"
            ]
          },
          "metadata": {
            "tags": []
          },
          "execution_count": 29
        }
      ]
    },
    {
      "cell_type": "code",
      "metadata": {
        "id": "i2YqJ0BG_TuY",
        "colab_type": "code",
        "colab": {}
      },
      "source": [
        "tokenizer.fit_on_texts(texts = test_data['text'])\n",
        "test_text = tokenizer.texts_to_sequences(texts = test_data['text'])"
      ],
      "execution_count": 0,
      "outputs": []
    },
    {
      "cell_type": "code",
      "metadata": {
        "id": "h0vc0cC5_Wc9",
        "colab_type": "code",
        "colab": {}
      },
      "source": [
        "test_text = pad_sequences(sequences = test_text, maxlen = max_features, padding = 'pre')"
      ],
      "execution_count": 0,
      "outputs": []
    },
    {
      "cell_type": "code",
      "metadata": {
        "id": "zN24I28w_YMB",
        "colab_type": "code",
        "colab": {
          "base_uri": "https://localhost:8080/",
          "height": 170
        },
        "outputId": "910b2d2b-b828-4cef-fb49-edae4ec05f69"
      },
      "source": [
        "gru_prediction = gru_model.predict_classes(test_text)\n",
        "print(gru_prediction)"
      ],
      "execution_count": 34,
      "outputs": [
        {
          "output_type": "stream",
          "text": [
            "[0 0 0 0 0 0 0 0 0 0 0 0 0 0 0 0 0 0 0 0 0 0 0 0 0 0 0 0 0 0 0 0 0 0 0 0 0\n",
            " 0 0 0 0 0 0 0 0 0 0 0 0 0 0 0 0 0 0 0 0 0 0 0 0 0 0 0 0 0 0 0 0 0 0 0 0 0\n",
            " 0 0 0 0 0 0 0 0 0 0 0 0 0 0 0 0 0 0 0 0 0 0 0 0 0 0 0 0 0 0 0 0 0 0 0 0 0\n",
            " 0 0 0 0 0 0 0 0 0 0 0 0 0 0 0 0 0 0 0 0 0 0 0 0 0 0 0 0 0 0 0 0 0 0 0 0 0\n",
            " 0 0 0 0 0 0 0 0 0 0 0 0 0 0 0 0 0 0 0 0 0 0 0 0 0 0 0 0 0 0 0 0 0 0 0 0 0\n",
            " 0 0 0 0 0 0 0 0 0 0 0 0 0 0 0 0 0 0 0 0 0 0 0 0 0 0 0 0 0 0 0 0 0 0 0 0 0\n",
            " 0 0 0 0 0 0 0 0 0 0 0 0 0 0 0 0 0 0 0 0 0 0 0 0 0 0 0 0 0 0 0 0 0 0 0 0 0\n",
            " 0 0 0 0 0 0 0 0 0 0 0 0 0 0 0 0 0 0 0 0 0 0 0 0 0 0 0 0 0 0 0 0 0 0 0 0 0\n",
            " 0 0 0 0 0]\n"
          ],
          "name": "stdout"
        }
      ]
    },
    {
      "cell_type": "code",
      "metadata": {
        "id": "gPaLnvXj_aG7",
        "colab_type": "code",
        "colab": {
          "base_uri": "https://localhost:8080/",
          "height": 34
        },
        "outputId": "059e3941-21a8-4a0a-8027-d665518fc9bd"
      },
      "source": [
        "final_predict = pd.DataFrame({'id':test_data.index, 'label':gru_prediction})\n",
        "final_predict.shape"
      ],
      "execution_count": 35,
      "outputs": [
        {
          "output_type": "execute_result",
          "data": {
            "text/plain": [
              "(301, 2)"
            ]
          },
          "metadata": {
            "tags": []
          },
          "execution_count": 35
        }
      ]
    },
    {
      "cell_type": "code",
      "metadata": {
        "id": "8x6ZzIVR_ccw",
        "colab_type": "code",
        "colab": {
          "base_uri": "https://localhost:8080/",
          "height": 204
        },
        "outputId": "dd2d0aab-a63e-4e31-ac45-a43c2ce6082b"
      },
      "source": [
        "final_predict.head()"
      ],
      "execution_count": 36,
      "outputs": [
        {
          "output_type": "execute_result",
          "data": {
            "text/html": [
              "<div>\n",
              "<style scoped>\n",
              "    .dataframe tbody tr th:only-of-type {\n",
              "        vertical-align: middle;\n",
              "    }\n",
              "\n",
              "    .dataframe tbody tr th {\n",
              "        vertical-align: top;\n",
              "    }\n",
              "\n",
              "    .dataframe thead th {\n",
              "        text-align: right;\n",
              "    }\n",
              "</style>\n",
              "<table border=\"1\" class=\"dataframe\">\n",
              "  <thead>\n",
              "    <tr style=\"text-align: right;\">\n",
              "      <th></th>\n",
              "      <th>id</th>\n",
              "      <th>label</th>\n",
              "    </tr>\n",
              "  </thead>\n",
              "  <tbody>\n",
              "    <tr>\n",
              "      <th>0</th>\n",
              "      <td>1.260000e+18</td>\n",
              "      <td>0</td>\n",
              "    </tr>\n",
              "    <tr>\n",
              "      <th>1</th>\n",
              "      <td>1.260000e+18</td>\n",
              "      <td>0</td>\n",
              "    </tr>\n",
              "    <tr>\n",
              "      <th>2</th>\n",
              "      <td>1.260000e+18</td>\n",
              "      <td>0</td>\n",
              "    </tr>\n",
              "    <tr>\n",
              "      <th>3</th>\n",
              "      <td>1.260000e+18</td>\n",
              "      <td>0</td>\n",
              "    </tr>\n",
              "    <tr>\n",
              "      <th>4</th>\n",
              "      <td>1.260000e+18</td>\n",
              "      <td>0</td>\n",
              "    </tr>\n",
              "  </tbody>\n",
              "</table>\n",
              "</div>"
            ],
            "text/plain": [
              "             id  label\n",
              "0  1.260000e+18      0\n",
              "1  1.260000e+18      0\n",
              "2  1.260000e+18      0\n",
              "3  1.260000e+18      0\n",
              "4  1.260000e+18      0"
            ]
          },
          "metadata": {
            "tags": []
          },
          "execution_count": 36
        }
      ]
    },
    {
      "cell_type": "code",
      "metadata": {
        "id": "uh0Q4gRM_itZ",
        "colab_type": "code",
        "colab": {}
      },
      "source": [
        "final_predict.to_csv('final_predict_fake_news.csv', index = False)"
      ],
      "execution_count": 0,
      "outputs": []
    },
    {
      "cell_type": "code",
      "metadata": {
        "id": "P45D6qeAAIg5",
        "colab_type": "code",
        "colab": {}
      },
      "source": [
        ""
      ],
      "execution_count": 0,
      "outputs": []
    }
  ]
}